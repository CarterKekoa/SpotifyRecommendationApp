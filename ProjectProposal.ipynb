{
 "metadata": {
  "language_info": {
   "codemirror_mode": {
    "name": "ipython",
    "version": 3
   },
   "file_extension": ".py",
   "mimetype": "text/x-python",
   "name": "python",
   "nbconvert_exporter": "python",
   "pygments_lexer": "ipython3",
   "version": 3
  },
  "orig_nbformat": 2
 },
 "nbformat": 4,
 "nbformat_minor": 2,
 "cells": [
  {
   "source": [
    "## Team Memebers: Carter Mooring and Armando Valdez"
   ],
   "cell_type": "markdown",
   "metadata": {}
  },
  {
   "source": [
    "## Data Description\n",
    "1. Its source, format, and its contents\n",
    "    - Spotify, JSON, Music data (songs, Ids, and audio data (loudness))\n",
    "2. Include a brief description of the attributes and what you will use as class information (i.e., what attribute(s) you will try to predict).\n",
    "    - track_id, danceability, acousitcness, energy, tempo, instrumentalness, loudness,               liveness, duration_ms, key, valence, speechiness\n",
    "    - We will be making predictions using the dataset and different classifiers from Armando’s       current favorite songs and comparing it to undiscovered music and determining if Armando       would “like” the undiscovered music."
   ],
   "cell_type": "markdown",
   "metadata": {}
  },
  {
   "source": [
    "## Implementation/technical merit\n",
    "1. Anticipated challenges in pre-processing and/or classification\n",
    "    - Pre-processing data won’t be too hard. It will just be a matter of parsing through the         JSON response correctly, grabbing all data points needed for classification and                formatting it to be used by our ML classifiers.\n",
    "    - The data is coming from a major company, so we will not need to deal with too many data        errors.\n",
    "2. If the number of attributes is large, how will you explore feature selection techniques to     pare down the attributes?\n",
    "    - We will look to take the most relevant attribute data needed in order to make a correct        classification.\n",
    "    - We will need to determine which attributes are “useful” in determining if the song will        be “liked”, which may require lots of test driven development.\n",
    "\n"
   ],
   "cell_type": "markdown",
   "metadata": {}
  },
  {
   "source": [
    "## Potential impact of the results\n",
    "1. Why are these results useful?\n",
    "    - Users are exposed to new music that they may have never come across.\n",
    "    - Users can quickly compare new music to any of their playlist giving them an array of new       music that they have a high chance of liking. \n",
    "2. Who are stakeholders (users/groups that are impacted by the outcome of the project)            interested in these results?\n",
    "    - Armando will be the primary stakeholder at first, as the app will be able to provide him       with new music playlists full of songs he may like.\n",
    "    - However, we currently have the stretch goal to allow any user to sign into their spotify       account on our app and determine their own new music playlists full of songs they may          enjoy.\n"
   ],
   "cell_type": "markdown",
   "metadata": {}
  }
 ]
}