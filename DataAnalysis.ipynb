{
 "metadata": {
  "language_info": {
   "codemirror_mode": {
    "name": "ipython",
    "version": 3
   },
   "file_extension": ".py",
   "mimetype": "text/x-python",
   "name": "python",
   "nbconvert_exporter": "python",
   "pygments_lexer": "ipython3",
   "version": "3.8.5"
  },
  "orig_nbformat": 2,
  "kernelspec": {
   "name": "python385jvsc74a57bd098b0a9b7b4eaaa670588a142fd0a9b87eaafe866f1db4228be72b4211d12040f",
   "display_name": "Python 3.8.5 64-bit ('base': conda)"
  }
 },
 "nbformat": 4,
 "nbformat_minor": 2,
 "cells": [
  {
   "cell_type": "code",
   "execution_count": 48,
   "metadata": {},
   "outputs": [],
   "source": [
    "import importlib\n",
    "import SpotifyAPIClient\n",
    "import pprint\n",
    "importlib.reload(SpotifyAPIClient)\n",
    "from SpotifyAPIClient import SpotifyAPI\n",
    "\n",
    "client_id = 'd7a2e6f4a8434550baa5eda073f0a6a3'\n",
    "client_secret = 'def46d47ba584e378b7667645666a468'\n",
    "playlist_id = '7L736vCRhBe5EapwwkutUl'"
   ]
  },
  {
   "cell_type": "code",
   "execution_count": 49,
   "metadata": {},
   "outputs": [],
   "source": [
    "spotify = SpotifyAPI(client_id, client_secret)\n",
    "response = spotify.get_playlist(playlist_id)\n"
   ]
  },
  {
   "cell_type": "code",
   "execution_count": 50,
   "metadata": {},
   "outputs": [
    {
     "output_type": "stream",
     "name": "stdout",
     "text": [
      "Are We There Yet --> 0.711\n",
      "More Than You Know --> 0.645\n",
      "Sweet Nothing (feat. Florence Welch) --> 0.573\n",
      "Wish You Were Mine - Radio Edit --> 0.654\n",
      "Personal --> 0.522\n",
      "Sit Next to Me --> 0.638\n",
      "All My Love (feat. Conor Maynard) --> 0.59\n",
      "Rich Love (with Seeb) --> 0.593\n",
      "Closer --> 0.748\n",
      "Too Close --> 0.584\n",
      "Love Myself --> 0.616\n",
      "Jackie Chan --> 0.742\n",
      "I Will Wait --> 0.485\n",
      "Feel It Still --> 0.78\n",
      "Creatures Of The Night --> 0.388\n",
      "Why --> 0.669\n",
      "Lonely Together (feat. Rita Ora) --> 0.648\n",
      "Hola (feat. Maluma) --> 0.757\n",
      "Runaway (U & I) --> 0.506\n",
      "Only One --> 0.558\n",
      "Find Yourself --> 0.718\n",
      "On My Mind --> 0.699\n",
      "Cake By The Ocean --> 0.771\n",
      "Say Hi --> 0.321\n",
      "Weak --> 0.672\n",
      "The Middle --> 0.748\n",
      "Youngblood --> 0.596\n",
      "Know No Better --> 0.738\n",
      "A Different Way (with Lauv) --> 0.784\n",
      "Riding Shotgun (feat. Bonnie McKee) --> 0.817\n",
      "Sleepless - Radio Edit --> 0.722\n",
      "Glad You Came --> 0.61\n",
      "Let Me Go (with Alesso, Florida Georgia Line & watt) --> 0.664\n",
      "Outside (feat. Ellie Goulding) --> 0.646\n",
      "Thinking About You --> 0.788\n",
      "Hot2Touch --> 0.753\n",
      "Truth or Dare --> 0.715\n",
      "Row The Body (feat. French Montana) --> 0.701\n",
      "Get Loose --> 0.737\n",
      "Pumped Up Kicks --> 0.733\n",
      "Counting Stars --> 0.664\n",
      "Tequila - R3HAB Remix --> 0.578\n",
      "Mmm Yeah (feat. Pitbull) --> 0.712\n",
      "Somebody To Love --> 0.719\n",
      "Feel Good Inc. --> 0.818\n",
      "Sugar, We're Goin Down --> 0.494\n",
      "Make You Feel It --> 0.43\n",
      "Love No More --> 0.766\n",
      "Hey Julie! (feat. Lil Yachty) --> 0.803\n",
      "International Love (feat. Chris Brown) --> 0.67\n",
      "Leavin' --> 0.687\n",
      "Ridin' Solo --> 0.442\n",
      "Alone, Pt. II --> 0.67\n",
      "Where The Love Goes --> 0.736\n",
      "Good Nights (feat. Mascolo) --> 0.849\n",
      "Freedom --> 0.715\n",
      "Malibu --> 0.629\n",
      "Lucky Strike --> 0.674\n",
      "Beautiful People (feat. Khalid) --> 0.64\n",
      "ily (i love you baby) (feat. Emilee) --> 0.674\n",
      "Rescue Me --> 0.759\n",
      "Come & Go (with Marshmello) --> 0.625\n",
      "Ocean Drive --> 0.686\n",
      "Bad Bitch (feat. Ty Dolla $ign) --> 0.656\n",
      "Say It (feat. Tove Lo) --> 0.598\n",
      "BED --> 0.663\n",
      "Jalebi Baby --> 0.678\n"
     ]
    }
   ],
   "source": [
    "track_ids = spotify.parse_for_track_id(response)\n",
    "for name, id in track_ids.items():\n",
    "    response = spotify.get_track_audio_features(id)\n",
    "    print(name,'-->',response['danceability'])\n",
    "    \n",
    "\n",
    "\n",
    "    "
   ]
  },
  {
   "cell_type": "code",
   "execution_count": null,
   "metadata": {},
   "outputs": [],
   "source": []
  }
 ]
}