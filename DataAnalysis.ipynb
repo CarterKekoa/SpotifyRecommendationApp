{
 "metadata": {
  "language_info": {
   "codemirror_mode": {
    "name": "ipython",
    "version": 3
   },
   "file_extension": ".py",
   "mimetype": "text/x-python",
   "name": "python",
   "nbconvert_exporter": "python",
   "pygments_lexer": "ipython3",
   "version": "3.8.5"
  },
  "orig_nbformat": 2,
  "kernelspec": {
   "name": "python385jvsc74a57bd098b0a9b7b4eaaa670588a142fd0a9b87eaafe866f1db4228be72b4211d12040f",
   "display_name": "Python 3.8.5 64-bit ('base': conda)"
  }
 },
 "nbformat": 4,
 "nbformat_minor": 2,
 "cells": [
  {
   "cell_type": "code",
   "execution_count": 31,
   "metadata": {},
   "outputs": [],
   "source": [
    "import importlib\n",
    "import SpotifyAPIClient\n",
    "import pprint\n",
    "import csv\n",
    "import os\n",
    "importlib.reload(SpotifyAPIClient)\n",
    "from SpotifyAPIClient import SpotifyAPI\n",
    "\n",
    "client_id = 'd7a2e6f4a8434550baa5eda073f0a6a3'\n",
    "client_secret = 'def46d47ba584e378b7667645666a468'\n",
    "playlist_id = '7L736vCRhBe5EapwwkutUl'"
   ]
  },
  {
   "cell_type": "code",
   "execution_count": 32,
   "metadata": {},
   "outputs": [],
   "source": [
    "spotify = SpotifyAPI(client_id, client_secret)\n",
    "response = spotify.get_playlist(playlist_id)\n"
   ]
  },
  {
   "cell_type": "code",
   "execution_count": 33,
   "metadata": {},
   "outputs": [],
   "source": [
    "track_ids = spotify.parse_for_track_id(response)\n",
    "header = [\"Track Name\", \"Track ID\", \"Danceability\", \"Energy\", \"valence\"] \n",
    "tracks_feature_list = []\n",
    "for name, id in track_ids.items():\n",
    "    track_feat_list = []\n",
    "    response = spotify.get_track_audio_features(id)\n",
    "    track_feat_list.append(name)\n",
    "    track_feat_list.append(id)\n",
    "    track_feat_list.append(round(response['danceability'] * 100, 2))\n",
    "    track_feat_list.append(round(response['energy'] * 100, 2))\n",
    "    # track_feat_list.append(response['tempo'])\n",
    "    track_feat_list.append(round(response['valence'] * 100, 2))\n",
    "    tracks_feature_list.append(track_feat_list)\n",
    "\n",
    "\n",
    "    "
   ]
  },
  {
   "cell_type": "code",
   "execution_count": 34,
   "metadata": {},
   "outputs": [],
   "source": [
    "file_name = os.path.join('data', 'track-audio-features.txt')\n",
    "with open(file_name, 'w') as csv_file:\n",
    "    csv_writer = csv.writer(csv_file)\n",
    "    csv_writer.writerow(header)\n",
    "    csv_writer.writerows(tracks_feature_list)"
   ]
  }
 ]
}