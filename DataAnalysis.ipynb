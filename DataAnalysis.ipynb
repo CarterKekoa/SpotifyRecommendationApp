{
 "metadata": {
  "language_info": {
   "codemirror_mode": {
    "name": "ipython",
    "version": 3
   },
   "file_extension": ".py",
   "mimetype": "text/x-python",
   "name": "python",
   "nbconvert_exporter": "python",
   "pygments_lexer": "ipython3",
   "version": "3.8.5-final"
  },
  "orig_nbformat": 2,
  "kernelspec": {
   "name": "python385jvsc74a57bd098b0a9b7b4eaaa670588a142fd0a9b87eaafe866f1db4228be72b4211d12040f",
   "display_name": "Python 3.8.5 64-bit ('base': conda)"
  }
 },
 "nbformat": 4,
 "nbformat_minor": 2,
 "cells": [
  {
   "cell_type": "code",
   "execution_count": 147,
   "metadata": {},
   "outputs": [],
   "source": [
    "import importlib\n",
    "import SpotifyAPIClient\n",
    "import pprint\n",
    "import csv\n",
    "import os\n",
    "import random\n",
    "importlib.reload(SpotifyAPIClient)\n",
    "from SpotifyAPIClient import SpotifyAPI\n",
    "import pandas as pd\n",
    "\n",
    "import mysklearn.myutils\n",
    "importlib.reload(mysklearn.myutils)\n",
    "import mysklearn.myutils as myutils\n",
    "\n",
    "import mysklearn.mypytable\n",
    "importlib.reload(mysklearn.mypytable)\n",
    "from mysklearn.mypytable import MyPyTable \n",
    "\n",
    "import mysklearn.myevaluation\n",
    "importlib.reload(mysklearn.myevaluation)\n",
    "import mysklearn.myevaluation as myevaluation\n",
    "\n",
    "import mysklearn.myclassifiers\n",
    "importlib.reload(mysklearn.myclassifiers)\n",
    "from mysklearn.myclassifiers import MyKNeighborsClassifier, MyNaiveBayesClassifier, MyDecisionTreeClassifier\n",
    "\n",
    "fname = os.path.join(\"data\", 'track-audio-features-all.txt')\n",
    "track_data = MyPyTable().load_from_file(fname)\n",
    "\n",
    "\n",
    "client_id = 'd7a2e6f4a8434550baa5eda073f0a6a3'\n",
    "client_secret = 'def46d47ba584e378b7667645666a468'\n",
    "playlist_id = '7L736vCRhBe5EapwwkutUl'"
   ]
  },
  {
   "cell_type": "code",
   "execution_count": 148,
   "metadata": {},
   "outputs": [],
   "source": [
    "# spotify = SpotifyAPI(client_id, client_secret)\n",
    "# response = spotify.get_playlist(playlist_id)\n"
   ]
  },
  {
   "cell_type": "code",
   "execution_count": 149,
   "metadata": {},
   "outputs": [
    {
     "output_type": "stream",
     "name": "stdout",
     "text": [
      "Stratified 10-Fold Cross Validation\n",
      "\n",
      "Nive Bayes:  Accuracy = 72.6 % Error Rate =  27.4 %\n"
     ]
    }
   ],
   "source": [
    "danceability = myutils.format_num(track_data.get_column('danceability'))\n",
    "energy = myutils.format_num(track_data.get_column('energy'))\n",
    "valence = myutils.format_num(track_data.get_column('valence'))\n",
    "\n",
    "x_vals = [[danceability[i], energy[i], valence[i]] for i in range(len(danceability))]\n",
    "y_vals = myutils.convert_to_rank(track_data.get_column(\"track_popularity\"))\n",
    "\n",
    "print('Stratified 10-Fold Cross Validation\\n')\n",
    "strat_train_folds, strat_test_folds = myevaluation.stratified_kfold_cross_validation(x_vals, y_vals, 10)\n",
    "strat_xtrain, strat_ytrain, strat_xtest, strat_ytest = myutils.get_from_folds(x_vals, y_vals, strat_train_folds, strat_test_folds)\n",
    "\n",
    "myNb = MyNaiveBayesClassifier()\n",
    "myNb.fit(strat_xtrain, strat_ytrain)\n",
    "\n",
    "predicted = myNb.predict(strat_xtest)\n",
    "accuracy = myutils.get_accuracy(strat_ytest, predicted)\n",
    "print('Nive Bayes:  Accuracy =', round(accuracy * 100, 3), 'Error Rate = ', round((1-accuracy) * 100, 3))"
   ]
  },
  {
   "cell_type": "code",
   "execution_count": 150,
   "metadata": {},
   "outputs": [
    {
     "output_type": "stream",
     "name": "stdout",
     "text": [
      "My Decision Tree: Accuracy = 28.98 % Error Rate =  71.02 %\n"
     ]
    }
   ],
   "source": [
    "danceability = myutils.format_num(track_data.get_column('danceability'))\n",
    "energy = myutils.format_num(track_data.get_column('energy'))\n",
    "valence = myutils.format_num(track_data.get_column('valence'))\n",
    "\n",
    "x_vals = [[danceability[i], energy[i], valence[i]] for i in range(len(danceability))]\n",
    "y_vals = myutils.convert_to_rank(track_data.get_column(\"track_popularity\"))\n",
    "\n",
    "strat_train_folds2, strat_test_folds2 = myevaluation.stratified_kfold_cross_validation(x_vals, y_vals, 10)\n",
    "strat_xtrain2, strat_ytrain2, strat_xtest2, strat_ytest2 = myutils.get_from_folds(x_vals, y_vals, strat_train_folds2, strat_test_folds2)\n",
    "\n",
    "my_tree = MyDecisionTreeClassifier()\n",
    "my_tree.fit(strat_xtrain2, strat_ytrain2)\n",
    "\n",
    "predicted2 = my_tree.predict(strat_xtest2)\n",
    "accuracy2 = myutils.get_accuracy(strat_ytest2, predicted2)\n",
    "print('My Decision Tree: Accuracy =', round(accuracy2 * 100, 3), 'Error Rate = ', round((1-accuracy2) * 100, 3))"
   ]
  },
  {
   "cell_type": "code",
   "execution_count": 138,
   "metadata": {},
   "outputs": [
    {
     "output_type": "stream",
     "name": "stdout",
     "text": [
      "947\n"
     ]
    }
   ],
   "source": []
  }
 ]
}